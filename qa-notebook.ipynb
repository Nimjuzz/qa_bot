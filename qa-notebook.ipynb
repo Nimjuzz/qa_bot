{
 "cells": [
  {
   "cell_type": "markdown",
   "id": "153d0c9c",
   "metadata": {},
   "source": [
    "# RAG chain"
   ]
  },
  {
   "cell_type": "code",
   "execution_count": null,
   "id": "305808c0",
   "metadata": {},
   "outputs": [
    {
     "ename": "",
     "evalue": "",
     "output_type": "error",
     "traceback": [
      "\u001b[1;31mRunning cells with 'Python 3.10.2' requires the ipykernel package.\n",
      "\u001b[1;31mRun the following command to install 'ipykernel' into the Python environment. \n",
      "\u001b[1;31mCommand: 'c:/Users/админ/AppData/Local/Programs/Python/Python310/python.exe -m pip install ipykernel -U --user --force-reinstall'"
     ]
    }
   ],
   "source": [
    "import os\n",
    "from dotenv import load_dotenv\n",
    "\n",
    "load_dotenv()\n",
    "\n",
    "openai_api_key = os.getenv(\"OPENAI_API_KEY\")\n",
    "CHROMA_PATH = os.getenv(\"CHROMA_PATH\")\n",
    "DATA_PATH = os.getenv(\"DATA_PATH\")"
   ]
  },
  {
   "cell_type": "code",
   "execution_count": null,
   "id": "6056763f",
   "metadata": {},
   "outputs": [],
   "source": [
    "from langchain.text_splitter import RecursiveCharacterTextSplitter\n",
    "from langchain.schema.document import Document\n",
    "\n",
    "from langchain.document_loaders.pdf import PyPDFDirectoryLoader\n",
    "\n",
    "from langchain_openai.chat_models import ChatOpenAI\n",
    "from langchain_openai.embeddings import OpenAIEmbeddings\n",
    "\n",
    "from langchain.vectorstores.chroma import Chroma"
   ]
  },
  {
   "cell_type": "code",
   "execution_count": 4,
   "id": "a39ec43f",
   "metadata": {
    "scrolled": true
   },
   "outputs": [
    {
     "name": "stdout",
     "output_type": "stream",
     "text": [
      "page_content='Оценка AW (Academic  Withdrawal ) - выставляется в случае нарушения обучающимся правил СДУ и \\nправил экзамена.  \\nОценка AW равна 0 -бальному цифровому эквиваленту и рассчитывается как оценка GPA  F (Fail) \\nпри среднем показатели  успеваемости. Оценка AW выставляется преподавателем -предметником \\nили проектором на  основании акта, составленного решением факультета.  \\nЦена AW выставляется и отпускае тся по академическим причинам. Ставится в случае нарушения \\nправил экзамена. Экзаменацио нное дежурство заполняет ак т. Сдача экзамена FX по этим \\nпредметам не допускается.  \\nОценка \"FX\" - выставляется, когда итоговая оценка по дисциплине находится в пределах 25 -49. \\nОбучающийся, получивший оценку \"\"FX\"\", имеет право на повторную пересдачу.  \\nЧтобы сдать экзамен FX вы можете нажимать кнопку FX order на портале, где портал попросит \\nденьги.  \\nСдача FX стоит 1 ECTS  \\nЕсли вы пропустите FX, вы повторно будете изучать данный предмет в летнем семестре.  \\nЕсли портал закрылся, а преподаваетель забыл поставить FX, то преподаватель пишет зая вление в \\nдеканат. Вопрос рассматривается на собрании, после чего портал снова откроется для \\nпреподавателя.  \\nПререквизиты - это дисциплины, предшествующие изучению данной дисциплины.  \\nDrop (отказ от тех или иных дисциплин с вашего расписания) дисциплин при р егистрации на \\nпортале - бесплатна. На 5 -10 неделе вы платите 50% от полной стоимости предмета, на 10 -15 \\nнеделе 100% сумму.  \\nПо современной кредитной технологии расчет за ретейк рассчитывается по ECTS.  Летний семестр \\nпо академическому календарю начинается в  начале июня. Студент учится 5 недель, экзамен сдает \\nна 6 -7 неделе. Формат экзамена решается деканатом, онлайн либо оффлайн формат.  \\nВсе курсы летнего семестра платные.  \\nПо внутренним правилам нашего вуза скидки на пересдачу предметов не предусмотрены. Деньг и \\nза ретейк должны быть оплачены до открытия регистрации на портале.  \\nЕсли нужный вам предмет не открыли на летний семестр, вы можете закрыть его в течении \\nследующего учебного года.  \\nЕсли вы пропустили сдачу , заплатив за Ретейк, ваши деньги сгорят. В течени е учебного года вы \\nможете получить повторный предмет.  \\nЕсли у студента есть деньги на счету, он может взять ретейк курсы. Оплату делает так же как и за \\nобучение. В СДУ есть возможность оплатить ретейк в рассрочку.  \\nДиплом можно защитить по окончании зимнего экзамена на 5 и более курсе. В летнем семестре, \\nесли вы закрываете ретейки, а диссертация не готова, студент обращается в деканат.  \\nUpgrade - это услуга по повторному изучению дисциплин, производится только при условии, что \\nповторный предмет не превышает ус тановленной доли (квоты) в текущем семестре и в случае \\nотсутствия противоречий в расписании занятий и при наличии разрешения заведующего \\nкафедрой, на которую обучается абитуриент.  \\nПри Upgrade выставляется последняя оценка, даже если это ремейк.  ' metadata={'source': 'data/faq_SDU.pdf', 'page': 0}\n"
     ]
    }
   ],
   "source": [
    "def load_documents():\n",
    "    document_loader = PyPDFDirectoryLoader(DATA_PATH)\n",
    "    return document_loader.load()\n",
    "\n",
    "documents = load_documents()\n",
    "print(documents[0])"
   ]
  },
  {
   "cell_type": "code",
   "execution_count": 5,
   "id": "94675275",
   "metadata": {},
   "outputs": [],
   "source": [
    "def split_documents(documents: list[Document]):\n",
    "    text_splitter = RecursiveCharacterTextSplitter(\n",
    "        chunk_size = 600,\n",
    "        chunk_overlap = 80,\n",
    "        length_function = len,\n",
    "        is_separator_regex = False\n",
    "    )\n",
    "    return text_splitter.split_documents(documents)"
   ]
  },
  {
   "cell_type": "code",
   "execution_count": 6,
   "id": "f971708f",
   "metadata": {},
   "outputs": [
    {
     "name": "stdout",
     "output_type": "stream",
     "text": [
      "page_content='преподавателя.  \\nПререквизиты - это дисциплины, предшествующие изучению данной дисциплины.  \\nDrop (отказ от тех или иных дисциплин с вашего расписания) дисциплин при р егистрации на \\nпортале - бесплатна. На 5 -10 неделе вы платите 50% от полной стоимости предмета, на 10 -15 \\nнеделе 100% сумму.  \\nПо современной кредитной технологии расчет за ретейк рассчитывается по ECTS.  Летний семестр \\nпо академическому календарю начинается в  начале июня. Студент учится 5 недель, экзамен сдает \\nна 6 -7 неделе. Формат экзамена решается деканатом, онлайн либо оффлайн формат.' metadata={'source': 'data/faq_SDU.pdf', 'page': 0}\n"
     ]
    }
   ],
   "source": [
    "chunks = split_documents(documents)\n",
    "print(chunks[2])"
   ]
  },
  {
   "cell_type": "code",
   "execution_count": 7,
   "id": "274466ae",
   "metadata": {},
   "outputs": [],
   "source": [
    "def get_embedding_function():\n",
    "    embeddings = OpenAIEmbeddings(model=\"text-embedding-ada-002\")\n",
    "    return embeddings"
   ]
  },
  {
   "cell_type": "code",
   "execution_count": 8,
   "id": "ce3c68c6",
   "metadata": {},
   "outputs": [],
   "source": [
    "def add_to_chroma(chunks: list[Document]):\n",
    "    db = Chroma(\n",
    "        persist_directory = CHROMA_PATH,\n",
    "        embedding_function = get_embedding_function()\n",
    "    )\n",
    "    db.add_documents(new_chunks, ids = new_chunks_ids)\n",
    "    db.persist()"
   ]
  },
  {
   "cell_type": "code",
   "execution_count": 9,
   "id": "c86cc92c",
   "metadata": {},
   "outputs": [],
   "source": [
    "def get_context(question):\n",
    "    persist_directory = CHROMA_PATH\n",
    "\n",
    "    embedding = get_embedding_function()\n",
    "\n",
    "    vectordb = Chroma.from_documents(documents=chunks,\n",
    "                                     embedding=embedding,\n",
    "                                     persist_directory=CHROMA_PATH)\n",
    "\n",
    "    vectordb.persist()\n",
    "    vectordb = None\n",
    "\n",
    "    vectordb = Chroma(persist_directory=CHROMA_PATH,\n",
    "                      embedding_function=embedding)\n",
    "\n",
    "    retriever = vectordb.as_retriever()\n",
    "\n",
    "    docs = retriever.get_relevant_documents(question)\n",
    "    context_text = \"\\n\".join(doc.page_content for doc in docs)\n",
    "    return context_text"
   ]
  },
  {
   "cell_type": "code",
   "execution_count": 12,
   "id": "2602eed5",
   "metadata": {},
   "outputs": [],
   "source": [
    "llm = ChatOpenAI(\n",
    "                openai_api_key=openai_api_key,\n",
    "                model=\"gpt-3.5-turbo\"\n",
    ")"
   ]
  },
  {
   "cell_type": "code",
   "execution_count": null,
   "id": "b10413c1",
   "metadata": {},
   "outputs": [],
   "source": [
    "import os\n",
    "from dotenv import load_dotenv\n",
    "\n",
    "load_dotenv()\n",
    "\n",
    "openai_api_key = os.getenv(\"OPENAI_API_KEY\")\n",
    "CHROMA_PATH = os.getenv(\"CHROMA_PATH\")\n",
    "DATA_PATH = os.getenv(\"DATA_PATH\")\n",
    "\n",
    "from langchain.text_splitter import RecursiveCharacterTextSplitter\n",
    "from langchain.schema.document import Document\n",
    "\n",
    "from langchain.document_loaders.pdf import PyPDFDirectoryLoader\n",
    "\n",
    "from langchain_openai.chat_models import ChatOpenAI\n",
    "from langchain_openai.embeddings import OpenAIEmbeddings\n",
    "\n",
    "from langchain.vectorstores.chroma import Chroma\n",
    "\n",
    "def load_documents():\n",
    "    document_loader = PyPDFDirectoryLoader(DATA_PATH)\n",
    "    return document_loader.load()\n",
    "\n",
    "documents = load_documents()\n",
    "\n",
    "def split_documents(documents: list[Document]):\n",
    "    text_splitter = RecursiveCharacterTextSplitter(\n",
    "        chunk_size = 600,\n",
    "        chunk_overlap = 80,\n",
    "        length_function = len,\n",
    "        is_separator_regex = False\n",
    "    )\n",
    "    return text_splitter.split_documents(documents)\n",
    "\n",
    "chunks = split_documents(documents)\n",
    "\n",
    "\n",
    "def get_embedding_function():\n",
    "    embeddings = OpenAIEmbeddings(model=\"text-embedding-ada-002\")\n",
    "    return embeddings\n",
    "\n",
    "def add_to_chroma(chunks: list[Document]):\n",
    "    db = Chroma(\n",
    "        persist_directory = CHROMA_PATH,\n",
    "        embedding_function = get_embedding_function()\n",
    "    )\n",
    "    db.add_documents(new_chunks, ids = new_chunks_ids)\n",
    "    db.persist()\n",
    "\n",
    "def get_context(question):\n",
    "    persist_directory = CHROMA_PATH\n",
    "\n",
    "    embedding = get_embedding_function()\n",
    "\n",
    "    vectordb = Chroma.from_documents(documents=chunks,\n",
    "                                     embedding=embedding,\n",
    "                                     persist_directory=CHROMA_PATH)\n",
    "\n",
    "    vectordb.persist()\n",
    "    vectordb = None\n",
    "\n",
    "    vectordb = Chroma(persist_directory=CHROMA_PATH,\n",
    "                      embedding_function=embedding)\n",
    "\n",
    "    retriever = vectordb.as_retriever()\n",
    "\n",
    "    docs = retriever.get_relevant_documents(question)\n",
    "    context_text = \"\\n\".join(doc.page_content for doc in docs)\n",
    "    return context_text\n",
    "\n",
    "llm = ChatOpenAI(\n",
    "                openai_api_key=openai_api_key,\n",
    "                model=\"gpt-3.5-turbo\"\n",
    ")\n",
    "\n",
    "template = \"\"\"\n",
    "You are a Q&A assistant for university students.\n",
    "Your goal is to answer questions as accurately as possible based on context provided.\n",
    "Context: {context}\n",
    "\n",
    "---\n",
    "You must answer in russian.\n",
    "If you don't have information to answer the question, type \"К сожалению, я не владею такой информацией. Попробуйте обратиться к эдвайзеру.\"\n",
    "Question: {question}\n",
    "\"\"\"\n",
    "\n",
    "question= \"как получить президентскую стипендию\"\n",
    "\n",
    "from langchain import PromptTemplate, LLMChain\n",
    "\n",
    "prompt = PromptTemplate(input_variables=[\"context\", \"question\"], template=template)\n",
    "llm_chain = LLMChain(prompt=prompt, llm=llm)\n",
    "\n",
    "result = llm_chain.run({\"context\": get_context(question), \"question\": question})\n",
    "print(result)"
   ]
  },
  {
   "cell_type": "code",
   "execution_count": 13,
   "id": "02705a28",
   "metadata": {},
   "outputs": [],
   "source": [
    "template = \"\"\"\n",
    "You are a Q&A assistant for university students.\n",
    "Your goal is to answer questions as accurately as possible based on context provided.\n",
    "Context: {context}\n",
    "\n",
    "---\n",
    "You must answer in russian.\n",
    "If you don't have information to answer the question, type \"К сожалению, я не владею такой информацией. Попробуйте обратиться к эдвайзеру.\"\n",
    "Question: {question}\n",
    "\"\"\""
   ]
  },
  {
   "cell_type": "code",
   "execution_count": 32,
   "id": "629d9037",
   "metadata": {},
   "outputs": [],
   "source": [
    "question= \"как получить президентскую стипендию\""
   ]
  },
  {
   "cell_type": "code",
   "execution_count": 33,
   "id": "a6390285",
   "metadata": {
    "scrolled": true
   },
   "outputs": [],
   "source": [
    "from langchain import PromptTemplate, LLMChain\n",
    "\n",
    "prompt = PromptTemplate(input_variables=[\"context\", \"question\"], template=template)\n",
    "llm_chain = LLMChain(prompt=prompt, llm=llm)\n",
    "\n",
    "result = llm_chain.run({\"context\": get_context(question), \"question\": question})"
   ]
  },
  {
   "cell_type": "code",
   "execution_count": 34,
   "id": "a9d52279",
   "metadata": {},
   "outputs": [
    {
     "data": {
      "text/plain": [
       "'Для получения президентской стипендии необходимо иметь определенные заслуги, заниматься научно-исследовательской деятельностью, быть одаренным и талантливым студентом или магистрантом. При назначении стипендии отбор осуществляется исходя из указанных критериев, при равных условиях преимущество имеют дети-сироты, дети без попечения родителей, а также дети-инвалиды.'"
      ]
     },
     "execution_count": 34,
     "metadata": {},
     "output_type": "execute_result"
    }
   ],
   "source": [
    "result"
   ]
  },
  {
   "cell_type": "code",
   "execution_count": null,
   "id": "179d8f94",
   "metadata": {},
   "outputs": [],
   "source": []
  },
  {
   "cell_type": "code",
   "execution_count": null,
   "id": "9fc58274",
   "metadata": {},
   "outputs": [],
   "source": []
  }
 ],
 "metadata": {
  "kernelspec": {
   "display_name": "Python 3",
   "language": "python",
   "name": "python3"
  },
  "language_info": {
   "codemirror_mode": {
    "name": "ipython",
    "version": 3
   },
   "file_extension": ".py",
   "mimetype": "text/x-python",
   "name": "python",
   "nbconvert_exporter": "python",
   "pygments_lexer": "ipython3",
   "version": "3.10.2"
  }
 },
 "nbformat": 4,
 "nbformat_minor": 5
}
